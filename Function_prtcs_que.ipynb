{
 "cells": [
  {
   "cell_type": "markdown",
   "id": "c175c69e-c14b-4b14-b182-b46240ab98f9",
   "metadata": {},
   "source": [
    "# Practice Questions on Functions"
   ]
  },
  {
   "cell_type": "markdown",
   "id": "6d176aa4-82f8-4adb-82e2-e54694d71649",
   "metadata": {},
   "source": [
    "1. Write a function sum_numbers(a, b)"
   ]
  },
  {
   "cell_type": "code",
   "execution_count": 2,
   "id": "12490f21-12a1-464a-b2bf-96adf11d14b9",
   "metadata": {},
   "outputs": [],
   "source": [
    "def sum_numbers(a,b):\n",
    "    return a+b\n",
    "    "
   ]
  },
  {
   "cell_type": "code",
   "execution_count": 3,
   "id": "1bfd2f63-0944-43c5-a906-e6b36037c637",
   "metadata": {},
   "outputs": [
    {
     "data": {
      "text/plain": [
       "10"
      ]
     },
     "execution_count": 3,
     "metadata": {},
     "output_type": "execute_result"
    }
   ],
   "source": [
    "sum_numbers(4,6)"
   ]
  },
  {
   "cell_type": "code",
   "execution_count": 4,
   "id": "94c297e1-5319-4573-a13f-550c56d9d120",
   "metadata": {},
   "outputs": [
    {
     "data": {
      "text/plain": [
       "55"
      ]
     },
     "execution_count": 4,
     "metadata": {},
     "output_type": "execute_result"
    }
   ],
   "source": [
    "sum_numbers(10,45)"
   ]
  },
  {
   "cell_type": "markdown",
   "id": "ec087501-ddb6-409c-a2fc-2df7fd50f168",
   "metadata": {},
   "source": [
    "2. Local and Global Variables"
   ]
  },
  {
   "cell_type": "code",
   "execution_count": 6,
   "id": "f44a77dc-540c-4266-90e2-1bb90594bf9f",
   "metadata": {},
   "outputs": [],
   "source": [
    "counter = 0\n",
    "\n",
    "def increment():\n",
    "     global counter\n",
    "     counter = counter + 1\n",
    "     return counter"
   ]
  },
  {
   "cell_type": "code",
   "execution_count": 7,
   "id": "18a84f66-13ab-4850-940c-f820772a740b",
   "metadata": {},
   "outputs": [
    {
     "data": {
      "text/plain": [
       "1"
      ]
     },
     "execution_count": 7,
     "metadata": {},
     "output_type": "execute_result"
    }
   ],
   "source": [
    "increment()"
   ]
  },
  {
   "cell_type": "code",
   "execution_count": 8,
   "id": "c5c4ce70-1520-4708-9107-fb5b672819b4",
   "metadata": {},
   "outputs": [
    {
     "data": {
      "text/plain": [
       "2"
      ]
     },
     "execution_count": 8,
     "metadata": {},
     "output_type": "execute_result"
    }
   ],
   "source": [
    "increment()"
   ]
  },
  {
   "cell_type": "code",
   "execution_count": 9,
   "id": "35ff046f-fc8a-4a89-8638-81acc609fb8f",
   "metadata": {},
   "outputs": [
    {
     "data": {
      "text/plain": [
       "3"
      ]
     },
     "execution_count": 9,
     "metadata": {},
     "output_type": "execute_result"
    }
   ],
   "source": [
    "increment()"
   ]
  },
  {
   "cell_type": "code",
   "execution_count": null,
   "id": "bacc1f2a-bc8c-451d-aa4f-e4ec2b288b2b",
   "metadata": {},
   "outputs": [],
   "source": []
  },
  {
   "cell_type": "markdown",
   "id": "dcd5275d-3781-449b-b322-0b8f2d3960a0",
   "metadata": {},
   "source": [
    "Q3: Write a function demo_local() that declares a local variable message = \"Hello,\n",
    "Local\" and prints it."
   ]
  },
  {
   "cell_type": "code",
   "execution_count": 49,
   "id": "5fcc4292-d75c-4c41-a752-b224357ff9b6",
   "metadata": {},
   "outputs": [],
   "source": [
    "def demo_local():\n",
    "    message=\"Hello,Local\"\n",
    "    return message\n",
    "    "
   ]
  },
  {
   "cell_type": "code",
   "execution_count": 50,
   "id": "be1e6e27-a8a2-413b-9a50-be44be0d9b1d",
   "metadata": {},
   "outputs": [
    {
     "data": {
      "text/plain": [
       "'Hello,Local'"
      ]
     },
     "execution_count": 50,
     "metadata": {},
     "output_type": "execute_result"
    }
   ],
   "source": [
    "demo_local()"
   ]
  },
  {
   "cell_type": "code",
   "execution_count": null,
   "id": "8cefc904-0682-477b-b53c-0cbf89afcd2d",
   "metadata": {},
   "outputs": [],
   "source": []
  },
  {
   "cell_type": "markdown",
   "id": "65d4408b-07b0-438e-997b-7d6c2da0e765",
   "metadata": {},
   "source": [
    "q4: Modify demo_local() from the previous question to access a global variable\n",
    "message = \"Hello, Global\" from within the function."
   ]
  },
  {
   "cell_type": "code",
   "execution_count": 51,
   "id": "942b8390-3aa2-40cd-8ad7-2f5f744c1daa",
   "metadata": {},
   "outputs": [],
   "source": [
    "message=\"Hello,Local\"\n",
    "def demo_local():\n",
    "    return message\n"
   ]
  },
  {
   "cell_type": "code",
   "execution_count": 52,
   "id": "a3d0548e-3fe6-4c66-afa9-23c4d7b9d6f2",
   "metadata": {},
   "outputs": [
    {
     "data": {
      "text/plain": [
       "'Hello,Local'"
      ]
     },
     "execution_count": 52,
     "metadata": {},
     "output_type": "execute_result"
    }
   ],
   "source": [
    "demo_local()"
   ]
  },
  {
   "cell_type": "code",
   "execution_count": 53,
   "id": "b7cf55ed-e855-4bd3-9d75-cc32a1eb14bd",
   "metadata": {},
   "outputs": [
    {
     "data": {
      "text/plain": [
       "'Hello,Local'"
      ]
     },
     "execution_count": 53,
     "metadata": {},
     "output_type": "execute_result"
    }
   ],
   "source": [
    "demo_local()"
   ]
  },
  {
   "cell_type": "code",
   "execution_count": null,
   "id": "cfda832e-9676-4d23-a741-97d26974ddd1",
   "metadata": {},
   "outputs": [],
   "source": []
  },
  {
   "cell_type": "markdown",
   "id": "153f98c3-82c7-45c6-aed7-94094c168875",
   "metadata": {},
   "source": [
    "Q5: Write a function greet(name) that takes a name as input and returns a greeting\n",
    "message like \"Hello, John!\".\n",
    "1.Add a proper docstring describing the purpose of the function, its input parameter, and\n",
    "its return value.\n",
    "2.Use help() to display the docstring."
   ]
  },
  {
   "cell_type": "code",
   "execution_count": 56,
   "id": "e5c17fd2-0833-4cc4-8c24-485a83bb07f2",
   "metadata": {},
   "outputs": [],
   "source": [
    "def greet():\n",
    "    \"\"\"This fucntion is used to greet the particular person\"\"\"\n",
    "    name=input('Write the name')\n",
    "    message='Hello,John!'\n",
    "    return message"
   ]
  },
  {
   "cell_type": "code",
   "execution_count": 57,
   "id": "2176f7ae-040f-480c-8d0d-f83351375964",
   "metadata": {},
   "outputs": [
    {
     "name": "stdin",
     "output_type": "stream",
     "text": [
      "Write the name priya\n"
     ]
    },
    {
     "data": {
      "text/plain": [
       "'Hello,John!'"
      ]
     },
     "execution_count": 57,
     "metadata": {},
     "output_type": "execute_result"
    }
   ],
   "source": [
    "greet()"
   ]
  },
  {
   "cell_type": "code",
   "execution_count": 59,
   "id": "b207a23a-56fe-48b6-bbe5-e8b905055a5a",
   "metadata": {},
   "outputs": [
    {
     "name": "stdout",
     "output_type": "stream",
     "text": [
      "Help on function greet in module __main__:\n",
      "\n",
      "greet()\n",
      "    This fucntion is used to greet the particular person\n",
      "\n"
     ]
    }
   ],
   "source": [
    "help (greet)"
   ]
  },
  {
   "cell_type": "code",
   "execution_count": null,
   "id": "0d1df671-1aa7-4f8f-a9be-96b1e473c37a",
   "metadata": {},
   "outputs": [],
   "source": []
  },
  {
   "cell_type": "markdown",
   "id": "67488678-e2be-4f2a-9cb4-1ee6ba32434e",
   "metadata": {},
   "source": [
    "Q.6: Write a function calculate_area(radius) to compute the area of a circle given its\n",
    "radius.\n",
    "1.Add a docstring explaining the formula used for calculation and the purpose of the\n",
    "function."
   ]
  },
  {
   "cell_type": "code",
   "execution_count": 14,
   "id": "73cebbf9-7ee2-412c-a654-611b1bed825c",
   "metadata": {},
   "outputs": [],
   "source": [
    "def calculate_area(radius):\n",
    "    \"\"\"\n",
    "    Calculate the area of a circle given its radius.\n",
    "\n",
    "    The formula used for the calculation is:\n",
    "        Area = π * radius^2\n",
    "    where π (pi) is approximately 3.14159.\n",
    "\"\"\"  \n",
    "    \n",
    "    return 3.14159 * radius ** 2\n"
   ]
  },
  {
   "cell_type": "code",
   "execution_count": 15,
   "id": "287db659-d918-48ea-8ad3-9105bca2b944",
   "metadata": {},
   "outputs": [
    {
     "data": {
      "text/plain": [
       "28.27431"
      ]
     },
     "execution_count": 15,
     "metadata": {},
     "output_type": "execute_result"
    }
   ],
   "source": [
    "calculate_area(3)"
   ]
  },
  {
   "cell_type": "markdown",
   "id": "3fa0b9ab-503d-428b-82dd-0d80a1183e11",
   "metadata": {},
   "source": [
    "Write a function is_even(n) that returns True if a number is even, otherwise\n",
    "returns False. Test the function with multiple inputs."
   ]
  },
  {
   "cell_type": "code",
   "execution_count": 11,
   "id": "7e9d6e0d-859e-4dac-bc52-932f73ce45c4",
   "metadata": {},
   "outputs": [],
   "source": [
    "def is_even(n):\n",
    "    if n%2==0:\n",
    "        print('even')\n",
    "    else:\n",
    "       print('odd')"
   ]
  },
  {
   "cell_type": "code",
   "execution_count": 12,
   "id": "914cb1ad-07bd-42d5-b580-8662e10c9779",
   "metadata": {},
   "outputs": [
    {
     "name": "stdout",
     "output_type": "stream",
     "text": [
      "even\n"
     ]
    }
   ],
   "source": [
    "is_even(6)"
   ]
  },
  {
   "cell_type": "code",
   "execution_count": null,
   "id": "7cb50259-24d1-4777-833f-cb3d80dc29bf",
   "metadata": {},
   "outputs": [],
   "source": []
  }
 ],
 "metadata": {
  "kernelspec": {
   "display_name": "Python 3 (ipykernel)",
   "language": "python",
   "name": "python3"
  },
  "language_info": {
   "codemirror_mode": {
    "name": "ipython",
    "version": 3
   },
   "file_extension": ".py",
   "mimetype": "text/x-python",
   "name": "python",
   "nbconvert_exporter": "python",
   "pygments_lexer": "ipython3",
   "version": "3.12.7"
  }
 },
 "nbformat": 4,
 "nbformat_minor": 5
}
