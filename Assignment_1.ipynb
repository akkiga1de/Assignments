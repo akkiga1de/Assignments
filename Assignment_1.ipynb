{
 "cells": [
  {
   "cell_type": "markdown",
   "id": "b97cbc54-7667-4fe1-86e2-360398a9d274",
   "metadata": {},
   "source": [
    "Assignment 1: Python Basics and Data Types"
   ]
  },
  {
   "cell_type": "markdown",
   "id": "1f65d21a-7ae3-405a-a07c-1987a3fe1e15",
   "metadata": {},
   "source": [
    "1. Variable Manipulation"
   ]
  },
  {
   "cell_type": "code",
   "execution_count": 1,
   "id": "735eab09-7a0e-4447-8b3f-14ba20eed0f0",
   "metadata": {},
   "outputs": [],
   "source": [
    "# Define variables to store a student's name, age, GPA, and list of subjects."
   ]
  },
  {
   "cell_type": "code",
   "execution_count": 2,
   "id": "147867c3-bdcf-4c09-9102-35d10213009f",
   "metadata": {},
   "outputs": [
    {
     "name": "stdin",
     "output_type": "stream",
     "text": [
      "Write student name Rahul Bose\n",
      "Write Age 20\n",
      "Write GPA 8.5\n"
     ]
    }
   ],
   "source": [
    "Student_name = input('Write student name')\n",
    "Age = int(input('Write Age'))\n",
    "GPA = float(input('Write GPA'))"
   ]
  },
  {
   "cell_type": "code",
   "execution_count": 5,
   "id": "82c0d495-b864-4832-bb1c-a60d1e024348",
   "metadata": {},
   "outputs": [],
   "source": [
    "#Convert age from years to months and display the result."
   ]
  },
  {
   "cell_type": "code",
   "execution_count": 6,
   "id": "8360435d-c698-482f-8380-64baeeadc3ec",
   "metadata": {},
   "outputs": [
    {
     "data": {
      "text/plain": [
       "240"
      ]
     },
     "execution_count": 6,
     "metadata": {},
     "output_type": "execute_result"
    }
   ],
   "source": [
    "Age*12"
   ]
  },
  {
   "cell_type": "code",
   "execution_count": 8,
   "id": "1571b312-04cc-4d9d-98a7-9f9bc1f3a385",
   "metadata": {},
   "outputs": [],
   "source": [
    "#Concatenate and print a sentence using all the defined variables."
   ]
  },
  {
   "cell_type": "code",
   "execution_count": 18,
   "id": "471dc051-5bbf-44a3-9c9a-35a543cac816",
   "metadata": {},
   "outputs": [
    {
     "name": "stdout",
     "output_type": "stream",
     "text": [
      "Student name is Rahul Bose.He is 20 years old and He got 8.5 GPA in the final exam.\n"
     ]
    }
   ],
   "source": [
    "print(f'Student name is {Student_name}.He is {Age} years old and He got {GPA} GPA in the final exam.')"
   ]
  },
  {
   "cell_type": "markdown",
   "id": "f546a324-d331-443e-a16b-e35c6dd32a44",
   "metadata": {},
   "source": [
    "2.Type Conversion Practice"
   ]
  },
  {
   "cell_type": "code",
   "execution_count": 19,
   "id": "4d7d8bb2-4c83-405b-8514-78f15694e3ab",
   "metadata": {},
   "outputs": [],
   "source": [
    "#Convert a float to an integer, and explain what happens to the decimal part"
   ]
  },
  {
   "cell_type": "code",
   "execution_count": 20,
   "id": "91d63553-5cd3-470d-8bc3-b0695d3a720e",
   "metadata": {},
   "outputs": [],
   "source": [
    "Height = 4.4"
   ]
  },
  {
   "cell_type": "code",
   "execution_count": 21,
   "id": "2a8e3524-d25f-423b-9ac2-85a5d020504c",
   "metadata": {},
   "outputs": [
    {
     "data": {
      "text/plain": [
       "4.4"
      ]
     },
     "execution_count": 21,
     "metadata": {},
     "output_type": "execute_result"
    }
   ],
   "source": [
    "Height"
   ]
  },
  {
   "cell_type": "code",
   "execution_count": 22,
   "id": "d382c6bc-f472-4844-9851-afa088185ee9",
   "metadata": {},
   "outputs": [
    {
     "data": {
      "text/plain": [
       "float"
      ]
     },
     "execution_count": 22,
     "metadata": {},
     "output_type": "execute_result"
    }
   ],
   "source": [
    "type(Height)"
   ]
  },
  {
   "cell_type": "code",
   "execution_count": 26,
   "id": "460b0267-18f9-47f0-8564-e7bcf66a096e",
   "metadata": {},
   "outputs": [],
   "source": [
    "Height=int(Height)"
   ]
  },
  {
   "cell_type": "code",
   "execution_count": 27,
   "id": "782f7aa2-f359-4aab-b26f-3c3cf2582eed",
   "metadata": {},
   "outputs": [
    {
     "data": {
      "text/plain": [
       "int"
      ]
     },
     "execution_count": 27,
     "metadata": {},
     "output_type": "execute_result"
    }
   ],
   "source": [
    "type (Height)"
   ]
  },
  {
   "cell_type": "code",
   "execution_count": 28,
   "id": "db8d475f-7a33-4d70-aca7-aa2b89aa068b",
   "metadata": {},
   "outputs": [
    {
     "data": {
      "text/plain": [
       "4"
      ]
     },
     "execution_count": 28,
     "metadata": {},
     "output_type": "execute_result"
    }
   ],
   "source": [
    "Height"
   ]
  },
  {
   "cell_type": "markdown",
   "id": "035ae87b-e8ae-40fe-866e-e1cdc1be47b8",
   "metadata": {},
   "source": [
    "Ans- The int() function truncates the decimal part, meaning it removes everything after the decimal point without rounding"
   ]
  }
 ],
 "metadata": {
  "kernelspec": {
   "display_name": "Python 3 (ipykernel)",
   "language": "python",
   "name": "python3"
  },
  "language_info": {
   "codemirror_mode": {
    "name": "ipython",
    "version": 3
   },
   "file_extension": ".py",
   "mimetype": "text/x-python",
   "name": "python",
   "nbconvert_exporter": "python",
   "pygments_lexer": "ipython3",
   "version": "3.12.7"
  }
 },
 "nbformat": 4,
 "nbformat_minor": 5
}
