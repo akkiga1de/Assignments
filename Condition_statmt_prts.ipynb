{
 "cells": [
  {
   "cell_type": "markdown",
   "id": "72aede4c-7883-4f40-aaf7-a4ac9589dc4b",
   "metadata": {},
   "source": [
    "# Conditional Statements Practice"
   ]
  },
  {
   "cell_type": "markdown",
   "id": "e12f903f-c9ec-4f00-984e-7670b4c22bce",
   "metadata": {},
   "source": [
    "1. Eligibility Check:\n",
    "Write a program that takes the age of a person as input and prints whether they are eligible to vote (18 years or older)."
   ]
  },
  {
   "cell_type": "code",
   "execution_count": 4,
   "id": "41823085-f86e-4a38-bccd-5b8e827d6b9b",
   "metadata": {},
   "outputs": [
    {
     "name": "stdin",
     "output_type": "stream",
     "text": [
      "Enter the age 18\n"
     ]
    },
    {
     "name": "stdout",
     "output_type": "stream",
     "text": [
      "Eligible for voting\n"
     ]
    }
   ],
   "source": [
    "age =int(input('Enter the age'))\n",
    "if age >=18:\n",
    "    print('Eligible for voting')\n",
    "else:\n",
    "    print('Not Eligible for voting')\n",
    "    \n"
   ]
  },
  {
   "cell_type": "code",
   "execution_count": null,
   "id": "df9d271f-0d0d-439b-8e62-6f06651f0e0b",
   "metadata": {},
   "outputs": [],
   "source": []
  },
  {
   "cell_type": "markdown",
   "id": "2d75c838-70c0-4bbd-9d67-979f4726e379",
   "metadata": {},
   "source": [
    "2. Number Classification:\n",
    "Take a number as input and print whether it is positive, negative, or zero."
   ]
  },
  {
   "cell_type": "code",
   "execution_count": 19,
   "id": "69e76f08-abd0-4124-be8c-c9f3da538f6d",
   "metadata": {},
   "outputs": [
    {
     "name": "stdin",
     "output_type": "stream",
     "text": [
      "Enter the number -3.8\n"
     ]
    },
    {
     "name": "stdout",
     "output_type": "stream",
     "text": [
      "Negative Number\n"
     ]
    }
   ],
   "source": [
    "num=float(input('Enter the number'))\n",
    "if num >0:\n",
    "    print('Positive Number')\n",
    "elif num <0:\n",
    "    print('Negative Number')\n",
    "else:\n",
    "    print('Zero')\n",
    "\n",
    "\n",
    "    "
   ]
  },
  {
   "cell_type": "markdown",
   "id": "fc931f51-7723-41ba-a8e3-4ea870cbe443",
   "metadata": {},
   "source": [
    "3. Grade Evaluation"
   ]
  },
  {
   "cell_type": "code",
   "execution_count": 20,
   "id": "1432bd1a-3415-4642-a7d0-d4e74221e731",
   "metadata": {},
   "outputs": [
    {
     "name": "stdin",
     "output_type": "stream",
     "text": [
      "Enter the scores 76.20\n"
     ]
    },
    {
     "name": "stdout",
     "output_type": "stream",
     "text": [
      "You got C grade\n"
     ]
    }
   ],
   "source": [
    "score = float(input('Enter the scores'))\n",
    "if score >=90:\n",
    "    print ('You got A grade')\n",
    "elif score >=80 and score <90:\n",
    "    print('You got B grade')\n",
    "elif score >=70 and score <80:\n",
    "    print('You got C grade')\n",
    "elif score >=60 and score <70:\n",
    "    print('You got D grade')\n",
    "else:\n",
    "    print('You got F grade')\n",
    "    "
   ]
  },
  {
   "cell_type": "code",
   "execution_count": null,
   "id": "97bfdccb-a996-4e4d-b34a-f7298ce5cadb",
   "metadata": {},
   "outputs": [],
   "source": []
  },
  {
   "cell_type": "markdown",
   "id": "6fad0d43-7180-4328-900e-4a9151a8ebc5",
   "metadata": {},
   "source": [
    "4. Leap Year Checker"
   ]
  },
  {
   "cell_type": "code",
   "execution_count": 11,
   "id": "2c088f0d-8536-4e18-b9f0-42d583a8b809",
   "metadata": {},
   "outputs": [
    {
     "name": "stdin",
     "output_type": "stream",
     "text": [
      "Enter a year 2025\n"
     ]
    },
    {
     "name": "stdout",
     "output_type": "stream",
     "text": [
      "2025 is not a leap year\n"
     ]
    }
   ],
   "source": [
    "year = int(input('Enter a year'))\n",
    "if year % 4 == 0 and year % 400 == 0:\n",
    "    print(f'{year}is a leap year')\n",
    "elif year % 4 ==0 and year % 100 != 0:\n",
    "    print(f'{year} is a leap year')\n",
    "else:\n",
    "    print(f'{year} is not a leap year')"
   ]
  },
  {
   "cell_type": "code",
   "execution_count": null,
   "id": "b118b995-09ef-4f40-9c5e-7b1d6fb268d3",
   "metadata": {},
   "outputs": [],
   "source": []
  },
  {
   "cell_type": "markdown",
   "id": "3527c839-d937-4c0b-8068-911dcee74904",
   "metadata": {},
   "source": [
    "5. Max of Three Numbers"
   ]
  },
  {
   "cell_type": "code",
   "execution_count": 23,
   "id": "a82e9554-bac3-4e76-9120-732994278832",
   "metadata": {},
   "outputs": [
    {
     "name": "stdin",
     "output_type": "stream",
     "text": [
      "Enter the number a 23\n",
      "Enter the number b 45.66\n",
      "Enter the number c -65\n"
     ]
    },
    {
     "name": "stdout",
     "output_type": "stream",
     "text": [
      "b is largest number\n"
     ]
    }
   ],
   "source": [
    "a=float(input('Enter the number a'))\n",
    "b=float(input('Enter the number b'))\n",
    "c=float(input('Enter the number c'))\n",
    "if a > b and a > c:\n",
    "    print('a is largest number')\n",
    "elif b > a and b > c:\n",
    "    print('b is largest number')\n",
    "elif c > a and c > b:\n",
    "    print('c is largest number')\n",
    "else:\n",
    "    print ('not defined')\n"
   ]
  },
  {
   "cell_type": "code",
   "execution_count": null,
   "id": "f0b23f25-07b6-4e0c-aa8a-040ae8646cfb",
   "metadata": {},
   "outputs": [],
   "source": []
  },
  {
   "cell_type": "markdown",
   "id": "9010ef71-effc-4a22-8ef7-f3afa5c97538",
   "metadata": {},
   "source": [
    "6. Even or Odd"
   ]
  },
  {
   "cell_type": "code",
   "execution_count": 27,
   "id": "70012b30-68fd-4388-a226-7348bb5d3d6f",
   "metadata": {},
   "outputs": [
    {
     "name": "stdin",
     "output_type": "stream",
     "text": [
      "Enter the number 14\n"
     ]
    },
    {
     "name": "stdout",
     "output_type": "stream",
     "text": [
      "14 is Even number\n"
     ]
    }
   ],
   "source": [
    "num=int(input('Enter the number'))\n",
    "if num%2==0:\n",
    "    print(num,'is Even number')\n",
    "else:\n",
    "    print(num,'is Odd number')\n"
   ]
  },
  {
   "cell_type": "code",
   "execution_count": null,
   "id": "1adae073-88be-4ec5-bab2-330ce49964fe",
   "metadata": {},
   "outputs": [],
   "source": []
  },
  {
   "cell_type": "markdown",
   "id": "97b4fc1f-1013-4ad6-9e05-900c3fd8e37f",
   "metadata": {},
   "source": [
    "7. Login System"
   ]
  },
  {
   "cell_type": "markdown",
   "id": "a783b67e-43c3-42a7-a8e8-374d83140d3d",
   "metadata": {},
   "source": [
    "Create a simple login system that asks for a username and password and checks if they match predefined values. Print “Login Successful” if correct, otherwise “Login Failed.”"
   ]
  },
  {
   "cell_type": "code",
   "execution_count": 33,
   "id": "546266c7-0665-4aec-9016-97c2a0caf4be",
   "metadata": {},
   "outputs": [
    {
     "name": "stdin",
     "output_type": "stream",
     "text": [
      "Enter the username Akshay\n",
      "Enter the password 784180\n"
     ]
    },
    {
     "name": "stdout",
     "output_type": "stream",
     "text": [
      "Login Successful\n"
     ]
    }
   ],
   "source": [
    "Username=input('Enter the username')\n",
    "Password=int(input('Enter the password'))\n",
    "if Username=='Akshay' and Password==784180:\n",
    "                   print('Login Successful')\n",
    "else:\n",
    "                   print('Login Failed')\n",
    "                   "
   ]
  },
  {
   "cell_type": "code",
   "execution_count": null,
   "id": "b26b02ec-689b-46b7-8e33-c5b739bdf853",
   "metadata": {},
   "outputs": [],
   "source": []
  },
  {
   "cell_type": "markdown",
   "id": "16b93d45-375f-4bf5-b0ff-2cacf4beef18",
   "metadata": {},
   "source": [
    "8. Discount Calculation"
   ]
  },
  {
   "cell_type": "markdown",
   "id": "0622eef1-9c4f-4662-a7c8-ad9ca33caa14",
   "metadata": {},
   "source": [
    "Write a program that calculates the final price of an item after applying a discount based on the price:\n",
    " Above $100: 20% discount\n",
    " $50-$100: 10% discount\n",
    " Below $50: No discount"
   ]
  },
  {
   "cell_type": "code",
   "execution_count": 45,
   "id": "65b9b6ff-fbca-40a6-9875-973a9a4e4ece",
   "metadata": {},
   "outputs": [
    {
     "name": "stdin",
     "output_type": "stream",
     "text": [
      "Enter the item price 298\n"
     ]
    },
    {
     "name": "stdout",
     "output_type": "stream",
     "text": [
      "357.6 is the final price of item\n"
     ]
    }
   ],
   "source": [
    "item=float(input('Enter the item price'))\n",
    "if (item>100):\n",
    "    print(item*20/100+ item,'is the final price of item')\n",
    "elif (item>=50) and (item<=100):\n",
    "    print(item*10/100+item,'is the final price of item')\n",
    "elif(item<50):\n",
    "    print('No discount on item and this is final price of item',item)\n",
    "else:\n",
    "    print('Not defined')"
   ]
  },
  {
   "cell_type": "code",
   "execution_count": null,
   "id": "e03b0217-fd8e-48b9-a47f-23fe8b8bde21",
   "metadata": {},
   "outputs": [],
   "source": []
  },
  {
   "cell_type": "markdown",
   "id": "1f764752-23e3-463d-a51d-79f07dad3ee6",
   "metadata": {},
   "source": [
    "# Basic For Loop Practice Questions"
   ]
  },
  {
   "cell_type": "code",
   "execution_count": 46,
   "id": "9b73a4ad-d084-4520-92a5-4c6663eefc3d",
   "metadata": {},
   "outputs": [],
   "source": [
    "#1. Print Numbers from 1 to 10"
   ]
  },
  {
   "cell_type": "code",
   "execution_count": 48,
   "id": "9677268b-27c4-4d19-b162-2bdc13897123",
   "metadata": {},
   "outputs": [
    {
     "name": "stdout",
     "output_type": "stream",
     "text": [
      "1\n",
      "2\n",
      "3\n",
      "4\n",
      "5\n",
      "6\n",
      "7\n",
      "8\n",
      "9\n",
      "10\n"
     ]
    }
   ],
   "source": [
    "for i in range(1,11):\n",
    "    print(i)"
   ]
  },
  {
   "cell_type": "markdown",
   "id": "333f217d-5113-407b-b83a-a57e0f0edc96",
   "metadata": {},
   "source": [
    "2.Print Each Character in a String"
   ]
  },
  {
   "cell_type": "markdown",
   "id": "4b789ef4-c8cd-4c66-81e6-9cf753fb66fd",
   "metadata": {},
   "source": [
    "Ask the user to enter a word and use a for loop to print each character in the word.\n",
    "Example Input: Hello"
   ]
  },
  {
   "cell_type": "code",
   "execution_count": 5,
   "id": "1ab4aa93-4f75-481a-9546-721f09e32645",
   "metadata": {},
   "outputs": [
    {
     "name": "stdout",
     "output_type": "stream",
     "text": [
      "H\n",
      "e\n",
      "l\n",
      "l\n",
      "o\n"
     ]
    }
   ],
   "source": [
    "for i in 'Hello':\n",
    "    print(i)"
   ]
  },
  {
   "cell_type": "code",
   "execution_count": null,
   "id": "da8dabc3-4289-429a-b30f-879c177f91ea",
   "metadata": {},
   "outputs": [],
   "source": []
  },
  {
   "cell_type": "markdown",
   "id": "e4468825-9a86-4d5e-b868-80ba8f055c76",
   "metadata": {},
   "source": [
    "3. Count Up and Down:\n",
    "Use a for loop to print numbers from 1 to 5 and then back down to 1."
   ]
  },
  {
   "cell_type": "code",
   "execution_count": 36,
   "id": "12d2c973-b587-470b-9bc5-ae73587b935f",
   "metadata": {},
   "outputs": [
    {
     "name": "stdout",
     "output_type": "stream",
     "text": [
      "1\n",
      "2\n",
      "3\n",
      "4\n",
      "5\n",
      "4\n",
      "3\n",
      "2\n",
      "1\n"
     ]
    }
   ],
   "source": [
    "for i in range(1, 6):\n",
    "    print(i)\n",
    "\n",
    "for h in range(4, 0, -1):\n",
    "    print(h)\n",
    "        \n",
    "    "
   ]
  },
  {
   "cell_type": "markdown",
   "id": "03462c8b-63c8-4497-99f1-461bacfdf99e",
   "metadata": {},
   "source": [
    "Print Elements of a List:\n",
    "Define a list of fruits ([\"apple\", \"banana\", \"cherry\", \"date\"]) and use a for loop to print each fruit in the list."
   ]
  },
  {
   "cell_type": "code",
   "execution_count": 37,
   "id": "a5fa51d9-0e03-4e9f-ab6b-ce9e818e8858",
   "metadata": {},
   "outputs": [],
   "source": [
    "o=['apple','banana','cherry','date']"
   ]
  },
  {
   "cell_type": "code",
   "execution_count": 38,
   "id": "aa0ad03b-e551-43a2-a449-baf34cdd7c36",
   "metadata": {},
   "outputs": [
    {
     "name": "stdout",
     "output_type": "stream",
     "text": [
      "apple\n",
      "banana\n",
      "cherry\n",
      "date\n"
     ]
    }
   ],
   "source": [
    "for i in o:\n",
    "    print(i)\n"
   ]
  },
  {
   "cell_type": "code",
   "execution_count": null,
   "id": "a2fbe6e7-fa0f-4f24-9899-fb84a4f2c1a8",
   "metadata": {},
   "outputs": [],
   "source": []
  },
  {
   "cell_type": "markdown",
   "id": "8aed8f94-8065-4db0-a496-9c706b015054",
   "metadata": {},
   "source": [
    "5. Print Even Numbers Between 1 and 10:\n",
    "Use a for loop to print all even numbers between 1 and 10."
   ]
  },
  {
   "cell_type": "code",
   "execution_count": 2,
   "id": "962d109e-e529-4272-ba03-ea0c05ded78a",
   "metadata": {},
   "outputs": [
    {
     "name": "stdout",
     "output_type": "stream",
     "text": [
      "2\n",
      "4\n",
      "6\n",
      "8\n",
      "10\n"
     ]
    }
   ],
   "source": [
    "for i in range(1,11):\n",
    "    if i % 2 == 0:\n",
    "        print(i)"
   ]
  },
  {
   "cell_type": "markdown",
   "id": "b7c84a5e-11b7-4d48-ba59-0e729f1040c1",
   "metadata": {},
   "source": [
    "6. Simple Sum of a List:\n",
    "Write a program that calculates the sum of numbers in a list ([1, 2, 3, 4, 5]) using a for loop."
   ]
  },
  {
   "cell_type": "code",
   "execution_count": 3,
   "id": "267f2558-8071-44d3-8654-06e740c24930",
   "metadata": {},
   "outputs": [],
   "source": [
    "l=[1,2,3,4,5]    "
   ]
  },
  {
   "cell_type": "code",
   "execution_count": 4,
   "id": "b952a669-95ee-4392-8d19-210b6d4193ec",
   "metadata": {},
   "outputs": [],
   "source": [
    "sum=0\n",
    "for i in l:\n",
    "    sum=sum+i"
   ]
  },
  {
   "cell_type": "code",
   "execution_count": 5,
   "id": "3b535111-cff5-4003-8770-1b6c8b0e6625",
   "metadata": {},
   "outputs": [
    {
     "data": {
      "text/plain": [
       "15"
      ]
     },
     "execution_count": 5,
     "metadata": {},
     "output_type": "execute_result"
    }
   ],
   "source": [
    "sum"
   ]
  },
  {
   "cell_type": "markdown",
   "id": "6b8e174e-4b43-40a4-9eff-13d90a45324c",
   "metadata": {},
   "source": [
    "7. Count Down from 5 to 1:\n",
    "Use a for loop to print numbers in reverse from 5 to 1."
   ]
  },
  {
   "cell_type": "code",
   "execution_count": 6,
   "id": "d6ebfbd2-3af0-4568-a9f2-4421a7da61bc",
   "metadata": {},
   "outputs": [
    {
     "name": "stdout",
     "output_type": "stream",
     "text": [
      "5\n",
      "4\n",
      "3\n",
      "2\n",
      "1\n"
     ]
    }
   ],
   "source": [
    "for i in range(5,0,-1):\n",
    "    print(i)"
   ]
  },
  {
   "cell_type": "markdown",
   "id": "7e0179a7-514e-4297-b9b3-9df65d6603cd",
   "metadata": {},
   "source": [
    "8. Square Each Number in a List:\n",
    "Given a list of numbers [1, 2, 3, 4, 5], use a for loop to print the square of each number."
   ]
  },
  {
   "cell_type": "code",
   "execution_count": 7,
   "id": "cfa92920-c20f-426d-a36a-f9ba82161e5d",
   "metadata": {},
   "outputs": [
    {
     "name": "stdout",
     "output_type": "stream",
     "text": [
      "1 1\n",
      "2 4\n",
      "3 9\n",
      "4 16\n",
      "5 25\n"
     ]
    }
   ],
   "source": [
    "for i in l:\n",
    "    print(i,i*i)"
   ]
  },
  {
   "cell_type": "markdown",
   "id": "063c5a13-56f9-4a01-8396-98708598b733",
   "metadata": {},
   "source": [
    "9. Repeat a Word Multiple Times:\n",
    "Ask the user for a word and a number N. Use a for loop to print the word N times.\n",
    "Example Input: word = \"Hi\", N = 3"
   ]
  },
  {
   "cell_type": "code",
   "execution_count": 9,
   "id": "0665bfd2-acfe-4ec8-8519-bffa54712eb2",
   "metadata": {},
   "outputs": [
    {
     "name": "stdin",
     "output_type": "stream",
     "text": [
      "Enter the word Hi\n",
      "Enter the value 3\n"
     ]
    },
    {
     "name": "stdout",
     "output_type": "stream",
     "text": [
      "Hi\n",
      "Hi\n",
      "Hi\n"
     ]
    }
   ],
   "source": [
    "word=input('Enter the word')\n",
    "count=int(input('Enter the value'))\n",
    "for i in range(count):\n",
    "    print(word)\n"
   ]
  },
  {
   "cell_type": "code",
   "execution_count": null,
   "id": "4fe32e28-e875-4088-aa60-cca25ae83a44",
   "metadata": {},
   "outputs": [],
   "source": []
  }
 ],
 "metadata": {
  "kernelspec": {
   "display_name": "Python 3 (ipykernel)",
   "language": "python",
   "name": "python3"
  },
  "language_info": {
   "codemirror_mode": {
    "name": "ipython",
    "version": 3
   },
   "file_extension": ".py",
   "mimetype": "text/x-python",
   "name": "python",
   "nbconvert_exporter": "python",
   "pygments_lexer": "ipython3",
   "version": "3.12.7"
  }
 },
 "nbformat": 4,
 "nbformat_minor": 5
}
