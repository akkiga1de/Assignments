{
 "cells": [
  {
   "cell_type": "code",
   "execution_count": null,
   "id": "f340c6a3-7981-4d3e-84da-f2eb9e621f06",
   "metadata": {},
   "outputs": [],
   "source": []
  },
  {
   "cell_type": "code",
   "execution_count": 1,
   "id": "4adb35ed-99c3-4417-b667-9f772a1de5f9",
   "metadata": {},
   "outputs": [],
   "source": [
    "#Assignment 2: Data Structures - List, Tuple, Set, and Dictionary\n"
   ]
  },
  {
   "cell_type": "markdown",
   "id": "be28d79b-a7ca-4301-b099-8d60d4735bc5",
   "metadata": {},
   "source": [
    "# Working with Lists"
   ]
  },
  {
   "cell_type": "code",
   "execution_count": 3,
   "id": "7d370431-94fb-4be6-a803-c2881508123f",
   "metadata": {},
   "outputs": [],
   "source": [
    "a=[1,2,3,4,5] #create a list"
   ]
  },
  {
   "cell_type": "code",
   "execution_count": 5,
   "id": "73c0c9a5-1ae2-4b4f-952d-c5edc289d8bb",
   "metadata": {},
   "outputs": [
    {
     "data": {
      "text/plain": [
       "[1, 2, 3, 4, 5]"
      ]
     },
     "execution_count": 5,
     "metadata": {},
     "output_type": "execute_result"
    }
   ],
   "source": [
    "a"
   ]
  },
  {
   "cell_type": "code",
   "execution_count": 6,
   "id": "b1a6fe99-81b0-43e5-b6fe-440077dbda7b",
   "metadata": {},
   "outputs": [],
   "source": [
    "a.append(202) # append the new number"
   ]
  },
  {
   "cell_type": "code",
   "execution_count": 7,
   "id": "16f56892-8fa9-41c2-8b2f-284d9e858f10",
   "metadata": {},
   "outputs": [
    {
     "data": {
      "text/plain": [
       "[1, 2, 3, 4, 5, 202]"
      ]
     },
     "execution_count": 7,
     "metadata": {},
     "output_type": "execute_result"
    }
   ],
   "source": [
    "a"
   ]
  },
  {
   "cell_type": "code",
   "execution_count": 8,
   "id": "52cb077c-f7d6-4105-8f42-f49435ef746c",
   "metadata": {},
   "outputs": [],
   "source": [
    "a.insert(4,'505') #Insert a number at a specific index"
   ]
  },
  {
   "cell_type": "code",
   "execution_count": 9,
   "id": "f2ae110f-dcd8-428f-a44b-7c1dffcf83c9",
   "metadata": {},
   "outputs": [
    {
     "data": {
      "text/plain": [
       "[1, 2, 3, 4, '505', 5, 202]"
      ]
     },
     "execution_count": 9,
     "metadata": {},
     "output_type": "execute_result"
    }
   ],
   "source": [
    "a"
   ]
  },
  {
   "cell_type": "code",
   "execution_count": 10,
   "id": "764e6c50-1884-426f-82d1-b200348f039f",
   "metadata": {},
   "outputs": [],
   "source": [
    "a.insert(5,5)"
   ]
  },
  {
   "cell_type": "code",
   "execution_count": 11,
   "id": "2f816c4a-3036-4c69-87d8-2f06b0b12524",
   "metadata": {},
   "outputs": [
    {
     "data": {
      "text/plain": [
       "[1, 2, 3, 4, '505', 5, 5, 202]"
      ]
     },
     "execution_count": 11,
     "metadata": {},
     "output_type": "execute_result"
    }
   ],
   "source": [
    "a"
   ]
  },
  {
   "cell_type": "code",
   "execution_count": 12,
   "id": "50efdd23-1e3d-40ea-a945-0ebc7cfecb8f",
   "metadata": {},
   "outputs": [],
   "source": [
    "a.remove(5)#Remove duplicates and print the final list"
   ]
  },
  {
   "cell_type": "code",
   "execution_count": 13,
   "id": "b4a4c6cb-1bef-4b00-baf7-4ad704026c66",
   "metadata": {},
   "outputs": [
    {
     "data": {
      "text/plain": [
       "[1, 2, 3, 4, '505', 5, 202]"
      ]
     },
     "execution_count": 13,
     "metadata": {},
     "output_type": "execute_result"
    }
   ],
   "source": [
    "a"
   ]
  },
  {
   "cell_type": "code",
   "execution_count": null,
   "id": "0832ea81-b5c2-4cca-8eac-740a55adb76c",
   "metadata": {},
   "outputs": [],
   "source": []
  },
  {
   "cell_type": "markdown",
   "id": "ac572f5c-caca-4332-beea-9916b46e43a0",
   "metadata": {},
   "source": [
    "#Tuple Manipulation"
   ]
  },
  {
   "cell_type": "code",
   "execution_count": 14,
   "id": "faf8a53b-b40b-4e69-b52f-47e49729bdc4",
   "metadata": {},
   "outputs": [],
   "source": [
    "b=('RED','BLUE','BLACK','ORANGE','WHITE')#Define a tuple of 5 colors."
   ]
  },
  {
   "cell_type": "code",
   "execution_count": 15,
   "id": "083772e1-1f17-4d85-8bbb-c128c158afa1",
   "metadata": {},
   "outputs": [
    {
     "data": {
      "text/plain": [
       "tuple"
      ]
     },
     "execution_count": 15,
     "metadata": {},
     "output_type": "execute_result"
    }
   ],
   "source": [
    "type(b)"
   ]
  },
  {
   "cell_type": "code",
   "execution_count": 16,
   "id": "e21088d1-4f09-4573-8bd9-2809bac1760c",
   "metadata": {},
   "outputs": [
    {
     "ename": "AttributeError",
     "evalue": "'tuple' object has no attribute 'insert'",
     "output_type": "error",
     "traceback": [
      "\u001b[1;31m---------------------------------------------------------------------------\u001b[0m",
      "\u001b[1;31mAttributeError\u001b[0m                            Traceback (most recent call last)",
      "Cell \u001b[1;32mIn[16], line 1\u001b[0m\n\u001b[1;32m----> 1\u001b[0m b\u001b[38;5;241m.\u001b[39minsert(\u001b[38;5;241m2\u001b[39m,\u001b[38;5;124m'\u001b[39m\u001b[38;5;124mVOILET\u001b[39m\u001b[38;5;124m'\u001b[39m)\n",
      "\u001b[1;31mAttributeError\u001b[0m: 'tuple' object has no attribute 'insert'"
     ]
    }
   ],
   "source": [
    "b.insert(2,'VOILET') #Try to add a new color to the tuple (observe and explain why it fails)."
   ]
  },
  {
   "cell_type": "code",
   "execution_count": null,
   "id": "11f467ac-89dc-411a-b9e3-7ca4aba734c3",
   "metadata": {},
   "outputs": [],
   "source": [
    "# Tuple is immutable/not changable"
   ]
  },
  {
   "cell_type": "code",
   "execution_count": null,
   "id": "5214f8ca-fb10-468b-9154-e2e411d929d6",
   "metadata": {},
   "outputs": [],
   "source": [
    "#Convert the tuple to a list, add the color, and convert it back to a tuple."
   ]
  },
  {
   "cell_type": "code",
   "execution_count": 17,
   "id": "f3df7278-5475-4add-bd87-7e95716b3076",
   "metadata": {},
   "outputs": [],
   "source": [
    "b=list(b) # Converting tuple into list"
   ]
  },
  {
   "cell_type": "code",
   "execution_count": 18,
   "id": "3e834859-2f70-4862-bfd6-987d9f386180",
   "metadata": {},
   "outputs": [
    {
     "data": {
      "text/plain": [
       "['RED', 'BLUE', 'BLACK', 'ORANGE', 'WHITE']"
      ]
     },
     "execution_count": 18,
     "metadata": {},
     "output_type": "execute_result"
    }
   ],
   "source": [
    "b"
   ]
  },
  {
   "cell_type": "code",
   "execution_count": 19,
   "id": "faeef789-018d-49bc-9b8a-3ad9f66dd5ee",
   "metadata": {},
   "outputs": [],
   "source": [
    "b.insert(2,'VOILET') # add new colour"
   ]
  },
  {
   "cell_type": "code",
   "execution_count": 20,
   "id": "07c068c0-8898-4f1b-a740-08d4a4d40a29",
   "metadata": {},
   "outputs": [
    {
     "data": {
      "text/plain": [
       "['RED', 'BLUE', 'VOILET', 'BLACK', 'ORANGE', 'WHITE']"
      ]
     },
     "execution_count": 20,
     "metadata": {},
     "output_type": "execute_result"
    }
   ],
   "source": [
    "b"
   ]
  },
  {
   "cell_type": "code",
   "execution_count": 22,
   "id": "7c343125-30db-4086-8ff8-26bb3f230709",
   "metadata": {},
   "outputs": [],
   "source": [
    "b=tuple(b) # again converting list into tuple"
   ]
  },
  {
   "cell_type": "code",
   "execution_count": 23,
   "id": "2840ebb5-ed02-4b7d-a0b4-ef18594c79ba",
   "metadata": {},
   "outputs": [
    {
     "data": {
      "text/plain": [
       "('RED', 'BLUE', 'VOILET', 'BLACK', 'ORANGE', 'WHITE')"
      ]
     },
     "execution_count": 23,
     "metadata": {},
     "output_type": "execute_result"
    }
   ],
   "source": [
    "b"
   ]
  },
  {
   "cell_type": "markdown",
   "id": "9ee33878-3217-414b-ae82-63a016bec452",
   "metadata": {},
   "source": [
    "# 3. Set Operations"
   ]
  },
  {
   "cell_type": "code",
   "execution_count": 25,
   "id": "98ba3643-672a-419e-80a1-4c6383804919",
   "metadata": {},
   "outputs": [],
   "source": [
    "# Create two sets of random numbers"
   ]
  },
  {
   "cell_type": "code",
   "execution_count": 28,
   "id": "02fb629d-16b7-419c-a8b2-b321278cbeca",
   "metadata": {},
   "outputs": [],
   "source": [
    "c={1,2,3,4,5}"
   ]
  },
  {
   "cell_type": "code",
   "execution_count": 34,
   "id": "3165fffb-6c91-414d-8ef1-2494bfe1df99",
   "metadata": {},
   "outputs": [],
   "source": [
    "d={4,5,8,9,10}"
   ]
  },
  {
   "cell_type": "code",
   "execution_count": 35,
   "id": "9ee7d100-ac0a-4478-9a30-7206af6fb9d3",
   "metadata": {},
   "outputs": [],
   "source": [
    "#Find and print their union, intersection, and difference"
   ]
  },
  {
   "cell_type": "code",
   "execution_count": 36,
   "id": "5021c514-de13-4806-9e3e-e6ac452b26b1",
   "metadata": {},
   "outputs": [
    {
     "data": {
      "text/plain": [
       "{1, 2, 3, 4, 5, 8, 9, 10}"
      ]
     },
     "execution_count": 36,
     "metadata": {},
     "output_type": "execute_result"
    }
   ],
   "source": [
    "c.union(d)"
   ]
  },
  {
   "cell_type": "code",
   "execution_count": 37,
   "id": "6dde6cf5-4b45-493a-9027-fb183b323b76",
   "metadata": {},
   "outputs": [
    {
     "data": {
      "text/plain": [
       "{4, 5}"
      ]
     },
     "execution_count": 37,
     "metadata": {},
     "output_type": "execute_result"
    }
   ],
   "source": [
    "c.intersection(d)"
   ]
  },
  {
   "cell_type": "code",
   "execution_count": 38,
   "id": "ae7cfc81-daf3-43d0-af35-097e7f1abebf",
   "metadata": {},
   "outputs": [
    {
     "data": {
      "text/plain": [
       "{1, 2, 3}"
      ]
     },
     "execution_count": 38,
     "metadata": {},
     "output_type": "execute_result"
    }
   ],
   "source": [
    "c.difference(d)"
   ]
  },
  {
   "cell_type": "code",
   "execution_count": 39,
   "id": "ff080f71-676a-4f12-a181-33f53e931063",
   "metadata": {},
   "outputs": [],
   "source": [
    "#Remove one element from the first set and add a new element"
   ]
  },
  {
   "cell_type": "code",
   "execution_count": 40,
   "id": "8190b425-1d11-435d-b592-d1c09edbccb6",
   "metadata": {},
   "outputs": [],
   "source": [
    "c.remove(3)"
   ]
  },
  {
   "cell_type": "code",
   "execution_count": 41,
   "id": "1288d220-961c-4591-9128-81ba544ccf24",
   "metadata": {},
   "outputs": [
    {
     "data": {
      "text/plain": [
       "{1, 2, 4, 5}"
      ]
     },
     "execution_count": 41,
     "metadata": {},
     "output_type": "execute_result"
    }
   ],
   "source": [
    "c"
   ]
  },
  {
   "cell_type": "code",
   "execution_count": 47,
   "id": "03594b20-d958-4d54-a5c5-2d1365f3349b",
   "metadata": {},
   "outputs": [],
   "source": [
    "c=list(c) # direct insert is not possible in set so need to convert it into list first"
   ]
  },
  {
   "cell_type": "code",
   "execution_count": 48,
   "id": "911a9887-a159-43cb-828b-70ae55012763",
   "metadata": {},
   "outputs": [
    {
     "data": {
      "text/plain": [
       "[1, 2, 4, 5]"
      ]
     },
     "execution_count": 48,
     "metadata": {},
     "output_type": "execute_result"
    }
   ],
   "source": [
    "c"
   ]
  },
  {
   "cell_type": "code",
   "execution_count": 49,
   "id": "0d4c6635-4994-4700-8967-ed30b076afbc",
   "metadata": {},
   "outputs": [],
   "source": [
    "c.insert(2,303)  "
   ]
  },
  {
   "cell_type": "code",
   "execution_count": 50,
   "id": "b0ad4397-d783-4dbb-abb1-26665506ddfa",
   "metadata": {},
   "outputs": [
    {
     "data": {
      "text/plain": [
       "[1, 2, 303, 4, 5]"
      ]
     },
     "execution_count": 50,
     "metadata": {},
     "output_type": "execute_result"
    }
   ],
   "source": [
    "c"
   ]
  },
  {
   "cell_type": "code",
   "execution_count": 51,
   "id": "40002e5f-73c4-4688-a587-e1fc7864aa21",
   "metadata": {},
   "outputs": [],
   "source": [
    "c=set(c)"
   ]
  },
  {
   "cell_type": "code",
   "execution_count": 52,
   "id": "df98127a-9750-4f5d-85d6-f427572e9b03",
   "metadata": {},
   "outputs": [
    {
     "data": {
      "text/plain": [
       "{1, 2, 4, 5, 303}"
      ]
     },
     "execution_count": 52,
     "metadata": {},
     "output_type": "execute_result"
    }
   ],
   "source": [
    "c"
   ]
  },
  {
   "cell_type": "markdown",
   "id": "81e1d31e-656b-46a6-a8ae-551236ba9654",
   "metadata": {},
   "source": [
    "# 4.Dictionary Practice"
   ]
  },
  {
   "cell_type": "markdown",
   "id": "1865ad4e-112d-4204-9643-1873a6eccf5a",
   "metadata": {},
   "source": [
    "#Define a dictionary for a library system with book titles as keys and available\n",
    "copies as values"
   ]
  },
  {
   "cell_type": "code",
   "execution_count": 4,
   "id": "6f7671ae-b311-476f-9ce9-9892e129fd8b",
   "metadata": {},
   "outputs": [],
   "source": [
    "lib ={'Math':2,'English':5,'History':7,'Marathi':3}"
   ]
  },
  {
   "cell_type": "code",
   "execution_count": 57,
   "id": "c239cccc-0c60-4604-82b7-b4e9823b72e4",
   "metadata": {},
   "outputs": [
    {
     "data": {
      "text/plain": [
       "{'Math': 2, 'English': 5, 'History': 7, 'Marathi': 3}"
      ]
     },
     "execution_count": 57,
     "metadata": {},
     "output_type": "execute_result"
    }
   ],
   "source": [
    "lib"
   ]
  },
  {
   "cell_type": "code",
   "execution_count": 5,
   "id": "ac148351-b071-4211-a133-618f5e50ef48",
   "metadata": {},
   "outputs": [
    {
     "data": {
      "text/plain": [
       "dict"
      ]
     },
     "execution_count": 5,
     "metadata": {},
     "output_type": "execute_result"
    }
   ],
   "source": [
    "type(lib)"
   ]
  },
  {
   "cell_type": "code",
   "execution_count": 59,
   "id": "ea1142e5-095f-40dd-8d89-ff1759cef77c",
   "metadata": {},
   "outputs": [],
   "source": [
    "# Update the count of a specific book after it is borrowed"
   ]
  },
  {
   "cell_type": "code",
   "execution_count": 7,
   "id": "11b384fa-ea43-48af-b43e-cf2dc158f7ab",
   "metadata": {},
   "outputs": [],
   "source": [
    "lib['English']=7  "
   ]
  },
  {
   "cell_type": "code",
   "execution_count": 63,
   "id": "bdef0a5b-04a1-4741-b729-4139e193cffa",
   "metadata": {},
   "outputs": [],
   "source": [
    "#Add a new book to the dictionary and print the updated dictionary"
   ]
  },
  {
   "cell_type": "code",
   "execution_count": 8,
   "id": "4350a74b-5403-4901-8ce1-5875e4d68d85",
   "metadata": {},
   "outputs": [
    {
     "data": {
      "text/plain": [
       "{'Math': 2, 'English': 7, 'History': 7, 'Marathi': 3}"
      ]
     },
     "execution_count": 8,
     "metadata": {},
     "output_type": "execute_result"
    }
   ],
   "source": [
    "lib"
   ]
  },
  {
   "cell_type": "code",
   "execution_count": 9,
   "id": "2eca2e5a-181c-4e44-a3d3-8145fbc83d4b",
   "metadata": {},
   "outputs": [],
   "source": [
    "lib['Geology']=8"
   ]
  },
  {
   "cell_type": "code",
   "execution_count": 10,
   "id": "3c712bd3-1f6f-42cf-a91c-91c51a98cf9f",
   "metadata": {},
   "outputs": [
    {
     "data": {
      "text/plain": [
       "{'Math': 2, 'English': 7, 'History': 7, 'Marathi': 3, 'Geology': 8}"
      ]
     },
     "execution_count": 10,
     "metadata": {},
     "output_type": "execute_result"
    }
   ],
   "source": [
    "lib"
   ]
  },
  {
   "cell_type": "code",
   "execution_count": null,
   "id": "d648e183-cf5f-4b81-b602-59af2d00d0c6",
   "metadata": {},
   "outputs": [],
   "source": []
  }
 ],
 "metadata": {
  "kernelspec": {
   "display_name": "Python 3 (ipykernel)",
   "language": "python",
   "name": "python3"
  },
  "language_info": {
   "codemirror_mode": {
    "name": "ipython",
    "version": 3
   },
   "file_extension": ".py",
   "mimetype": "text/x-python",
   "name": "python",
   "nbconvert_exporter": "python",
   "pygments_lexer": "ipython3",
   "version": "3.12.7"
  }
 },
 "nbformat": 4,
 "nbformat_minor": 5
}
